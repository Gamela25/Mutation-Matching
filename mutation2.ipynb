{
 "cells": [
  {
   "cell_type": "code",
   "execution_count": null,
   "id": "1bce375f",
   "metadata": {},
   "outputs": [],
   "source": [
    "#بسم الله الرحمن الرحيم\n",
    "import pandas\n",
    "\n",
    "mutation=input(\"Please Enter Mutation\")\n",
    "excel_data_df = pandas.read_excel('C:\\\\Users\\\\hp\\\\OneDrive\\\\Desktop\\\\sequencematching\\\\mutations_TP53.xlsx')\n",
    "excel_data_df[excel_data_df[\"CDS Mutation\"] == mutation]\n",
    "\n",
    "# print whole sheet data\n",
    "#print(excel_data_df)"
   ]
  }
 ],
 "metadata": {
  "kernelspec": {
   "display_name": "Python 3 (ipykernel)",
   "language": "python",
   "name": "python3"
  },
  "language_info": {
   "codemirror_mode": {
    "name": "ipython",
    "version": 3
   },
   "file_extension": ".py",
   "mimetype": "text/x-python",
   "name": "python",
   "nbconvert_exporter": "python",
   "pygments_lexer": "ipython3",
   "version": "3.9.7"
  }
 },
 "nbformat": 4,
 "nbformat_minor": 5
}
